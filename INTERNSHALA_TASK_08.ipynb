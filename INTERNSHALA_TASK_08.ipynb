{
  "nbformat": 4,
  "nbformat_minor": 0,
  "metadata": {
    "colab": {
      "provenance": [],
      "authorship_tag": "ABX9TyNx9ZNozQnLo+J0FyWoQOMq",
      "include_colab_link": true
    },
    "kernelspec": {
      "name": "python3",
      "display_name": "Python 3"
    },
    "language_info": {
      "name": "python"
    }
  },
  "cells": [
    {
      "cell_type": "markdown",
      "metadata": {
        "id": "view-in-github",
        "colab_type": "text"
      },
      "source": [
        "<a href=\"https://colab.research.google.com/github/annlitapaulson/internship-task-08/blob/main/INTERNSHALA_TASK_08.ipynb\" target=\"_parent\"><img src=\"https://colab.research.google.com/assets/colab-badge.svg\" alt=\"Open In Colab\"/></a>"
      ]
    },
    {
      "cell_type": "code",
      "execution_count": 2,
      "metadata": {
        "colab": {
          "base_uri": "https://localhost:8080/"
        },
        "id": "JZ0s7MxgGWbH",
        "outputId": "7b236d18-a531-4143-c14d-00f436c6f067"
      },
      "outputs": [
        {
          "output_type": "stream",
          "name": "stdout",
          "text": [
            "📄 Actual column names:\n",
            "['Transaction ID', 'Date', 'Product Category', 'Product Name', 'Units Sold', 'Unit Price', 'Total Revenue', 'Region', 'Payment Method']\n",
            "['Transaction ID', 'Date', 'Product Category', 'Product Name', 'Units Sold', 'Unit Price', 'Total Revenue', 'Region', 'Payment Method']\n",
            "❌ 'Order Date' column not found after cleaning.\n"
          ]
        }
      ],
      "source": [
        "import pandas as pd\n",
        "\n",
        "file_path = '/content/Online Sales Data.csv'\n",
        "df = pd.read_csv('/content/Online Sales Data.csv')\n",
        "\n",
        "print(\"📄 Actual column names:\")\n",
        "print(df.columns.tolist())\n",
        "\n",
        "df.columns = df.columns.str.strip()\n",
        "\n",
        "print(df.columns.tolist())\n",
        "\n",
        "if 'Order Date' in df.columns:\n",
        "    df['Order Date'] = pd.to_datetime(df['Order Date'], errors='coerce')\n",
        "    df['MonthYear'] = df['Order Date'].dt.to_period('M').astype(str)\n",
        "else:\n",
        "    print(\"❌ 'Order Date' column not found after cleaning.\")\n"
      ]
    }
  ]
}